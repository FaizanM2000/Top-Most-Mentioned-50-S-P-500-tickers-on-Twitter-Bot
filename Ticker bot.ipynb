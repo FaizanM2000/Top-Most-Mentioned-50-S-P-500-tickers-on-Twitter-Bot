{
 "cells": [
  {
   "cell_type": "code",
   "execution_count": 4,
   "metadata": {},
   "outputs": [],
   "source": [
    "import tweepy\n",
    "import webbrowser\n",
    "import time\n",
    "import pandas as pd\n",
    "import datetime\n",
    "from datetime import date,timedelta\n",
    "import numpy as np \n",
    "import matplotlib.pyplot as plt\n",
    "import warnings \n",
    "from wordcloud import WordCloud\n",
    "from PIL import Image\n",
    "import re\n",
    "from bs4 import BeautifulSoup\n",
    "import requests\n",
    "\n",
    "%matplotlib inline\n",
    "plt.style.use('fivethirtyeight')\n",
    "warnings.filterwarnings('ignore')"
   ]
  },
  {
   "cell_type": "code",
   "execution_count": 5,
   "metadata": {},
   "outputs": [],
   "source": [
    "import schedule"
   ]
  },
  {
   "cell_type": "code",
   "execution_count": 20,
   "metadata": {},
   "outputs": [
    {
     "name": "stdout",
     "output_type": "stream",
     "text": [
      "whats the pin?4969913\n"
     ]
    },
    {
     "data": {
      "text/plain": [
       "('1323638873600249858-9dikMIOocukH7U581879eAOKfhkvH6',\n",
       " 'pdAtHtec8PyanKo5nzu1A9ERbMgesIfuV5LlkUkHW2mh1')"
      ]
     },
     "execution_count": 20,
     "metadata": {},
     "output_type": "execute_result"
    }
   ],
   "source": [
    "consumer_key = \"bL50S54tJWbotMwyRlca6hpJc\"\n",
    "consumer_secret = \"y88uIQ44evb3r2256eh4pIll3hkLSjvJFQJi7a8Hu0UC5haL6U\"\n",
    "callback_uri = 'oob'\n",
    "auth = tweepy.OAuthHandler(consumer_key, consumer_secret, callback_uri)\n",
    "redirect_url = auth.get_authorization_url()\n",
    "webbrowser.open(redirect_url)\n",
    "user_pin_input = input(\"whats the pin?\")\n",
    "auth.get_access_token(user_pin_input)\n"
   ]
  },
  {
   "cell_type": "code",
   "execution_count": 21,
   "metadata": {},
   "outputs": [],
   "source": [
    "api = tweepy.API(auth)"
   ]
  },
  {
   "cell_type": "code",
   "execution_count": 22,
   "metadata": {},
   "outputs": [],
   "source": [
    "me = api.me()"
   ]
  },
  {
   "cell_type": "code",
   "execution_count": 25,
   "metadata": {},
   "outputs": [],
   "source": [
    "def tickerCloud():\n",
    "    tickers = [\"$AAPL\", \"$AMD\", \"$NIO\", \"$GOOGL\", \"$AMZN\", \"$SNAP\", \"$TWTR\", \"$FB\", \"$NFLX\", \"$TSLA\", \"$MSFT\", \"$JNJ\",\"$PG\",\"$NVDA\" \n",
    "          \"$V\",\"$JPM\",\"$UNH\",\"$HD\",\"$MA\",\"$VZ\",\"$DIS\",\"PYPL\",\"ADBE\",\"CRM\",\"PFE\",\"WMT\",\"CMCSA\",\"T\",\"MRK\",\"INTC\",\"TMO\",\"ABT\"\n",
    "          \"KO\",\"PEP\",\"BAC\",\"MCD\",\"COST\",\"CSCO\",\"ABBV\",\"NKE\",\"DHR\",\"NEE\",\"AVGO\",\"QCOM\",\"ACN\",\"XOM\",\"MDT\",\"CVX\",\"TXN\",\"BMY\",\"AMGN\",\"UNP\",\"LOW\"]\n",
    "    tickerdata = {key: 0 for key in tickers}\n",
    "    tickerkeys = list(tickerdata.keys())\n",
    "\n",
    "    today = datetime.date.today()\n",
    "    yest = datetime.date.today()- timedelta(1)\n",
    "    newstring = \"\"\n",
    "    for i in range(len(tickers)):\n",
    "\n",
    "        for r in api.search(tickers[i], until = yest,lang = \"en\"):\n",
    "            newstring += r.text\n",
    "    sstring = newstring.split()\n",
    "\n",
    "\n",
    "    for j in range(0,len(tickerkeys)):\n",
    "        tickerdata[tickerkeys[j]] = sstring.count(tickerkeys[j])\n",
    "    wc = WordCloud(background_color=\"white\",width=5000,height=5000, max_words=len(tickerkeys),relative_scaling=0.5,min_font_size=5).generate_from_frequencies(tickerdata)\n",
    "    plt.axis('off')\n",
    "    \n",
    "    return wc"
   ]
  },
  {
   "cell_type": "code",
   "execution_count": 13,
   "metadata": {},
   "outputs": [
    {
     "name": "stdout",
     "output_type": "stream",
     "text": [
      "[datetime.date(2020, 11, 4)]\n"
     ]
    }
   ],
   "source": [
    "dates = []\n",
    "dates.append(datetime.date.today()-timedelta(1))\n",
    "print(dates)\n",
    "\n"
   ]
  },
  {
   "cell_type": "code",
   "execution_count": 18,
   "metadata": {},
   "outputs": [
    {
     "name": "stdout",
     "output_type": "stream",
     "text": [
      "[datetime.date(2020, 11, 4), datetime.date(2020, 11, 5)]\n"
     ]
    }
   ],
   "source": [
    "print(dates)"
   ]
  },
  {
   "cell_type": "code",
   "execution_count": 16,
   "metadata": {},
   "outputs": [
    {
     "data": {
      "image/png": "[encoded data removed]",
      "text/plain": [
       "<Figure size 432x288 with 1 Axes>"
      ]
     },
     "metadata": {},
     "output_type": "display_data"
    }
   ],
   "source": [
    "\n",
    "\n",
    "def tweeter():\n",
    "    today = datetime.date.today()\n",
    "    yest= dates[len(dates)-1]\n",
    "    \n",
    "    if((today-yest)==timedelta(1)):\n",
    "        dates.append(today)\n",
    "       \n",
    "        return tickerCloud()\n",
    "    else:\n",
    "        return 0\n",
    "def tweetnow():\n",
    "    tweet = \"Most talked about top 50 S&P 500 tickers on Twitter today\"\n",
    "    newimage = tweeter()\n",
    "    if(newimage!=0):\n",
    "        s = str(datetime.date.today())+\".png\"\n",
    "        name = \"C:\\\\Users\\\\faiza\\\\\"\n",
    "        name= name+s\n",
    "        wc = newimage.to_file(name) \n",
    "        \n",
    "        \n",
    "        media = api.media_upload(s) \n",
    "        \n",
    "        api.update_status(status = tweet,media_ids=[media.media_id])\n",
    "        \n",
    "tweetnow()"
   ]
  },
  {
   "cell_type": "code",
   "execution_count": null,
   "metadata": {},
   "outputs": [],
   "source": [
    "schedule.every().day.at(\"18:00\").do(tweetnow)\n",
    "\n",
    "\n",
    "   \n",
    "  \n",
    "    \n",
    "while True:\n",
    "    schedule.run_pending()\n",
    "    time.sleep(1)"
   ]
  },
  {
   "cell_type": "code",
   "execution_count": null,
   "metadata": {},
   "outputs": [],
   "source": []
  }
 ],
 "metadata": {
  "kernelspec": {
   "display_name": "Python 3",
   "language": "python",
   "name": "python3"
  }
 },
 "nbformat": 4,
 "nbformat_minor": 4
}
